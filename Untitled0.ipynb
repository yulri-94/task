{
  "nbformat": 4,
  "nbformat_minor": 0,
  "metadata": {
    "colab": {
      "name": "Untitled0.ipynb",
      "provenance": [],
      "authorship_tag": "ABX9TyO/GwpAu7k1futqRNOqNUVh",
      "include_colab_link": true
    },
    "kernelspec": {
      "name": "python3",
      "display_name": "Python 3"
    }
  },
  "cells": [
    {
      "cell_type": "markdown",
      "metadata": {
        "id": "view-in-github",
        "colab_type": "text"
      },
      "source": [
        "<a href=\"https://colab.research.google.com/github/yulri-94/task/blob/master/Untitled0.ipynb\" target=\"_parent\"><img src=\"https://colab.research.google.com/assets/colab-badge.svg\" alt=\"Open In Colab\"/></a>"
      ]
    },
    {
      "cell_type": "markdown",
      "metadata": {
        "id": "0FlDwYUaBf9W",
        "colab_type": "text"
      },
      "source": [
        "#인공지능 제품 및 서비스\n",
        "\n",
        "### - 다양한 제품들과 서비스 속 적용된 인공지능 기술\n",
        "\n",
        "1. 언어\n",
        "\n",
        "*   마이크로소프트의 '문화유산을 위한 AI' 프로그램의 사멸위기 언어 보존\n",
        " * 유네스코에 따르면 오늘날 세계에는 약 6000개의 언어가 존재, 그 중 약 43%가 소멸위기\n",
        " * 세계 언어의 3분의 1은 사용하는 사람이 1000명 미만이고, 매 2주마다 한 개꼴로 언어가 소멸\n",
        " * 1950년 이후부터 지금까지 이미 약 230개 언어가 소멸했으며, 현재 소멸위기에 처한 언어의 50~90%도 다음 세기면 사라질 것으로 예측\n",
        " * 심각한 수준에 이르고 있는 언어 유실을 막기 위해, 마이크로소프트는 AI 번역 프로그램을 통해 언어를 번역, 더 많은 사람이 사용가능하게 함\n",
        " * 멕시코의 소수언어인 유카텍어와 오토미어의 자동번역 프로그램을 통해 이들 언어 사용자들이 여러 세대를 거쳐 자신의 언어와 문화를 보호하는 데 도움\n",
        "\n",
        "\n",
        "\n",
        "2. 음성\n",
        "\n",
        "*   보이저엑스의 브루(vrew)\n",
        " * 브루(vrew)는 '보이저엑스'라는 회사에서 만든 영상편집 인공지능 프로그램\n",
        " * 편집할 영상을 불러오면 인공지능이 영상 속 음성을 텍스트로 분석\n",
        " * 해당 텍스트에서 불필요한 부분을 삭제하면 영상이 자동으로 삭제\n",
        " * 해당 텍스트를 활용하여 손쉽게 자막 생성\n",
        " * <브루(vrew) 홈페이지 주소> [브루(vrew)](https://vrew.voyagerx.com/ko/) \n",
        "\n",
        "\n",
        "\n",
        "3. 이미지\n",
        "\n",
        "*   디자이노블의 스타일AI\n",
        " * 이미지와 콘셉트를 입력하면 AI가 학습한 데이터를 통해 새로운 디자인을 제안\n",
        " * 예를들면 디자인과 패턴을 입력하면 스타일 AI가 새로운 디자인을 제시한다\n",
        " * 패션브랜드 SJYP, 신세계 인터내셔널, 이랜드와 협업을 통해 AI의 활용성을 인정받음\n",
        " * SJYP와는 옷에 들어갈 기본 캐릭터, 콘셉트를 제공 학습 후 캐릭터 디자인 생성해 제공\n",
        " * <SJYP와의 협업 캐릭터 이미지> ![SJYP협업캐릭터](https://post-phinf.pstatic.net/MjAxODEyMTlfMjc2/MDAxNTQ1MjAyOTA3NTAx.LUmh4Lo0RjQLOaeejpCwk0mmw1n7N86aDTI0ry4vg3gg.Ues_FrErT1eKQKhsZfHAJLL4s3JEKKaOP0SjlL8LLPcg.PNG/sjyp_02.png?type=w1200)\n",
        "\n",
        "\n",
        "\n",
        "4. 자율주행\n",
        "\n",
        "\n",
        "\n",
        "*   코와로봇의 로버스피드\n",
        " * 로버스피드는 코와로봇사의 자율주행 캐리어\n",
        " * 탑재된 카메라로 사용자의 형상을 인식하고, 레이저센서로 사용자와의 거리를 유지\n",
        " * 자체 개발 '머신 비전 AI'기술은 특수한 레이저빔을 통해 레이저 포인트 클라우드 데이터를 기억하고 '머신 비전 AI'를 사용하여 사용자의 움직임을 식별하고 분석\n",
        " * 실시간으로 3차원 환경데이터 구축하여 붐비는 장소에 맞춰 제작되어 군중속에서도 사용자를 쉽게 찾는 레이더기술\n",
        " * 10cm이내의 정확한 위치를 파악할 수 있으며 초당 최대 20번 위치 정보를 새롭게 인식하여 사용자를 놓치지 않고 3차원 공간에서 높은 정밀도로 위치를 파악\n",
        " * 내장형 압력센서가 지표면의 조도를 인지하는 알고리즘과 결합되어 바퀴의 하강도를 조정, 적절한 접지력을 유지함으로써 포트홀을 통과하는 다중 지형 적응 시스템\n",
        " * <코와로봇의 로버스피드 제품소개 사이트> [로버스피드](https://www.cowarobot.co.kr/r1/robotics.html)\n",
        "\n"
      ]
    }
  ]
}